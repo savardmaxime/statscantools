{
 "cells": [
  {
   "cell_type": "code",
   "execution_count": null,
   "id": "22c4a8b5-98de-4e5f-b751-1408963f877e",
   "metadata": {
    "tags": []
   },
   "outputs": [],
   "source": [
    "import pandas as pd\n",
    "import requests"
   ]
  },
  {
   "cell_type": "code",
   "execution_count": null,
   "id": "bc091cd0-abaa-463f-ae0a-5a53f2b0e663",
   "metadata": {
    "tags": []
   },
   "outputs": [],
   "source": [
    "catalog_url=\"https://www150.statcan.gc.ca/t1/wds/rest/getAllCubesList\""
   ]
  },
  {
   "cell_type": "code",
   "execution_count": null,
   "id": "cffb2f17-11c7-4e2b-943d-43bae1541d49",
   "metadata": {
    "tags": []
   },
   "outputs": [],
   "source": [
    "catalog = requests.get(catalog_url)\n",
    "df = pd.DataFrame.from_records(catalog.json())"
   ]
  },
  {
   "cell_type": "code",
   "execution_count": null,
   "id": "423cafa7",
   "metadata": {},
   "outputs": [],
   "source": [
    "df['cubeStartDate'] = pd.to_datetime(df['cubeStartDate'])\n",
    "df['cubeEndDate'] = pd.to_datetime(df['cubeEndDate'])\n",
    "df['releaseTime'] = pd.to_datetime(df['releaseTime'])\n",
    "df['archived'] = df['archived'].apply(lambda x: True if x == '1' else False)"
   ]
  },
  {
   "cell_type": "code",
   "execution_count": null,
   "id": "2dc54146",
   "metadata": {},
   "outputs": [],
   "source": [
    "search_pattern = 'New motor vehicle registration'\n",
    "df[df['cubeTitleEn'].str.contains(search_pattern)]"
   ]
  },
  {
   "cell_type": "code",
   "execution_count": null,
   "id": "bd36c634-f8b5-4edc-8702-88d964d88f4a",
   "metadata": {
    "tags": []
   },
   "outputs": [],
   "source": [
    "item = df.loc[df['productId'] == 20100024]"
   ]
  }
 ],
 "metadata": {
  "kernelspec": {
   "display_name": "Python 3 (ipykernel)",
   "language": "python",
   "name": "python3"
  },
  "language_info": {
   "codemirror_mode": {
    "name": "ipython",
    "version": 3
   },
   "file_extension": ".py",
   "mimetype": "text/x-python",
   "name": "python",
   "nbconvert_exporter": "python",
   "pygments_lexer": "ipython3",
   "version": "3.10.12"
  }
 },
 "nbformat": 4,
 "nbformat_minor": 5
}
