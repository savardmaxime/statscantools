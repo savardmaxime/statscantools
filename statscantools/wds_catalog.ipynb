{
 "cells": [
  {
   "cell_type": "code",
   "execution_count": 1,
   "id": "22c4a8b5-98de-4e5f-b751-1408963f877e",
   "metadata": {
    "tags": []
   },
   "outputs": [],
   "source": [
    "import pandas as pd\n",
    "import requests"
   ]
  },
  {
   "cell_type": "code",
   "execution_count": 2,
   "id": "bc091cd0-abaa-463f-ae0a-5a53f2b0e663",
   "metadata": {
    "tags": []
   },
   "outputs": [],
   "source": [
    "catalog_url=\"https://www150.statcan.gc.ca/t1/wds/rest/getAllCubesList\""
   ]
  },
  {
   "cell_type": "code",
   "execution_count": 3,
   "id": "cffb2f17-11c7-4e2b-943d-43bae1541d49",
   "metadata": {
    "tags": []
   },
   "outputs": [],
   "source": [
    "catalog = requests.get(catalog_url)\n",
    "df = pd.DataFrame.from_records(catalog.json())"
   ]
  },
  {
   "cell_type": "code",
   "execution_count": 4,
   "id": "423cafa7",
   "metadata": {},
   "outputs": [],
   "source": [
    "df['cubeStartDate'] = pd.to_datetime(df['cubeStartDate'])\n",
    "df['cubeEndDate'] = pd.to_datetime(df['cubeEndDate'])\n",
    "df['releaseTime'] = pd.to_datetime(df['releaseTime'])\n",
    "df['archived'] = df['archived'].apply(lambda x: True if x == '1' else False)"
   ]
  },
  {
   "cell_type": "code",
   "execution_count": 7,
   "id": "c9b27183",
   "metadata": {},
   "outputs": [
    {
     "name": "stdout",
     "output_type": "stream",
     "text": [
      "<class 'pandas.core.frame.DataFrame'>\n",
      "RangeIndex: 7307 entries, 0 to 7306\n",
      "Data columns (total 13 columns):\n",
      " #   Column         Non-Null Count  Dtype         \n",
      "---  ------         --------------  -----         \n",
      " 0   productId      7307 non-null   int64         \n",
      " 1   cansimId       4760 non-null   object        \n",
      " 2   cubeTitleEn    7307 non-null   object        \n",
      " 3   cubeTitleFr    7307 non-null   object        \n",
      " 4   cubeStartDate  7307 non-null   datetime64[ns]\n",
      " 5   cubeEndDate    7307 non-null   datetime64[ns]\n",
      " 6   releaseTime    7307 non-null   datetime64[ns]\n",
      " 7   archived       7307 non-null   bool          \n",
      " 8   subjectCode    6811 non-null   object        \n",
      " 9   surveyCode     7296 non-null   object        \n",
      " 10  frequencyCode  7307 non-null   int64         \n",
      " 11  corrections    7307 non-null   object        \n",
      " 12  dimensions     7307 non-null   object        \n",
      "dtypes: bool(1), datetime64[ns](3), int64(2), object(7)\n",
      "memory usage: 692.3+ KB\n"
     ]
    }
   ],
   "source": [
    "df.info()"
   ]
  },
  {
   "cell_type": "code",
   "execution_count": 8,
   "id": "b772feed-c31e-425f-8fd5-e97cd8534dca",
   "metadata": {
    "tags": []
   },
   "outputs": [
    {
     "data": {
      "text/html": [
       "<div>\n",
       "<style scoped>\n",
       "    .dataframe tbody tr th:only-of-type {\n",
       "        vertical-align: middle;\n",
       "    }\n",
       "\n",
       "    .dataframe tbody tr th {\n",
       "        vertical-align: top;\n",
       "    }\n",
       "\n",
       "    .dataframe thead th {\n",
       "        text-align: right;\n",
       "    }\n",
       "</style>\n",
       "<table border=\"1\" class=\"dataframe\">\n",
       "  <thead>\n",
       "    <tr style=\"text-align: right;\">\n",
       "      <th></th>\n",
       "      <th>productId</th>\n",
       "      <th>cansimId</th>\n",
       "      <th>cubeTitleEn</th>\n",
       "      <th>cubeTitleFr</th>\n",
       "      <th>cubeStartDate</th>\n",
       "      <th>cubeEndDate</th>\n",
       "      <th>releaseTime</th>\n",
       "      <th>archived</th>\n",
       "      <th>subjectCode</th>\n",
       "      <th>surveyCode</th>\n",
       "      <th>frequencyCode</th>\n",
       "      <th>corrections</th>\n",
       "      <th>dimensions</th>\n",
       "    </tr>\n",
       "  </thead>\n",
       "  <tbody>\n",
       "    <tr>\n",
       "      <th>0</th>\n",
       "      <td>10100001</td>\n",
       "      <td>183-0021</td>\n",
       "      <td>Federal public sector employment reconciliatio...</td>\n",
       "      <td>Emploi du secteur public fédéral rapprochement...</td>\n",
       "      <td>1999-01-01</td>\n",
       "      <td>2011-01-01</td>\n",
       "      <td>2012-08-01 12:30:00</td>\n",
       "      <td>True</td>\n",
       "      <td>[10]</td>\n",
       "      <td>[1713]</td>\n",
       "      <td>12</td>\n",
       "      <td>[]</td>\n",
       "      <td>[{'dimensionNameEn': 'Geography', 'dimensionNa...</td>\n",
       "    </tr>\n",
       "    <tr>\n",
       "      <th>1</th>\n",
       "      <td>10100002</td>\n",
       "      <td>191-0002</td>\n",
       "      <td>Central government debt</td>\n",
       "      <td>Dette du gouvernement central</td>\n",
       "      <td>2009-04-01</td>\n",
       "      <td>2023-12-01</td>\n",
       "      <td>2024-02-26 13:30:00</td>\n",
       "      <td>False</td>\n",
       "      <td>[10]</td>\n",
       "      <td>[7514]</td>\n",
       "      <td>6</td>\n",
       "      <td>[]</td>\n",
       "      <td>[{'dimensionNameEn': 'Geography', 'dimensionNa...</td>\n",
       "    </tr>\n",
       "    <tr>\n",
       "      <th>2</th>\n",
       "      <td>10100003</td>\n",
       "      <td>176-0079</td>\n",
       "      <td>Government of Canada debt securities: Gross ne...</td>\n",
       "      <td>Titres d’emprunt du gouvernement du Canada : é...</td>\n",
       "      <td>1975-01-01</td>\n",
       "      <td>2024-01-01</td>\n",
       "      <td>2024-02-23 13:30:00</td>\n",
       "      <td>False</td>\n",
       "      <td>[10]</td>\n",
       "      <td>[7502]</td>\n",
       "      <td>6</td>\n",
       "      <td>[]</td>\n",
       "      <td>[{'dimensionNameEn': 'Geography', 'dimensionNa...</td>\n",
       "    </tr>\n",
       "    <tr>\n",
       "      <th>3</th>\n",
       "      <td>10100004</td>\n",
       "      <td>176-0013</td>\n",
       "      <td>Chartered banks, total claims and liabilities ...</td>\n",
       "      <td>Banques à charte, ensembles des créances et en...</td>\n",
       "      <td>1978-04-01</td>\n",
       "      <td>2023-07-01</td>\n",
       "      <td>2024-02-21 13:30:00</td>\n",
       "      <td>False</td>\n",
       "      <td>[10]</td>\n",
       "      <td>[7502]</td>\n",
       "      <td>9</td>\n",
       "      <td>[]</td>\n",
       "      <td>[{'dimensionNameEn': 'Geography', 'dimensionNa...</td>\n",
       "    </tr>\n",
       "    <tr>\n",
       "      <th>4</th>\n",
       "      <td>10100005</td>\n",
       "      <td>385-0041</td>\n",
       "      <td>Canadian Classification of Functions of Govern...</td>\n",
       "      <td>Classification canadienne des fonctions des ad...</td>\n",
       "      <td>2008-01-01</td>\n",
       "      <td>2022-01-01</td>\n",
       "      <td>2023-11-28 13:30:00</td>\n",
       "      <td>False</td>\n",
       "      <td>[10]</td>\n",
       "      <td>[5218]</td>\n",
       "      <td>12</td>\n",
       "      <td>[]</td>\n",
       "      <td>[{'dimensionNameEn': 'Geography', 'dimensionNa...</td>\n",
       "    </tr>\n",
       "  </tbody>\n",
       "</table>\n",
       "</div>"
      ],
      "text/plain": [
       "   productId  cansimId                                        cubeTitleEn  \\\n",
       "0   10100001  183-0021  Federal public sector employment reconciliatio...   \n",
       "1   10100002  191-0002                            Central government debt   \n",
       "2   10100003  176-0079  Government of Canada debt securities: Gross ne...   \n",
       "3   10100004  176-0013  Chartered banks, total claims and liabilities ...   \n",
       "4   10100005  385-0041  Canadian Classification of Functions of Govern...   \n",
       "\n",
       "                                         cubeTitleFr cubeStartDate  \\\n",
       "0  Emploi du secteur public fédéral rapprochement...    1999-01-01   \n",
       "1                      Dette du gouvernement central    2009-04-01   \n",
       "2  Titres d’emprunt du gouvernement du Canada : é...    1975-01-01   \n",
       "3  Banques à charte, ensembles des créances et en...    1978-04-01   \n",
       "4  Classification canadienne des fonctions des ad...    2008-01-01   \n",
       "\n",
       "  cubeEndDate         releaseTime  archived subjectCode surveyCode  \\\n",
       "0  2011-01-01 2012-08-01 12:30:00      True        [10]     [1713]   \n",
       "1  2023-12-01 2024-02-26 13:30:00     False        [10]     [7514]   \n",
       "2  2024-01-01 2024-02-23 13:30:00     False        [10]     [7502]   \n",
       "3  2023-07-01 2024-02-21 13:30:00     False        [10]     [7502]   \n",
       "4  2022-01-01 2023-11-28 13:30:00     False        [10]     [5218]   \n",
       "\n",
       "   frequencyCode corrections  \\\n",
       "0             12          []   \n",
       "1              6          []   \n",
       "2              6          []   \n",
       "3              9          []   \n",
       "4             12          []   \n",
       "\n",
       "                                          dimensions  \n",
       "0  [{'dimensionNameEn': 'Geography', 'dimensionNa...  \n",
       "1  [{'dimensionNameEn': 'Geography', 'dimensionNa...  \n",
       "2  [{'dimensionNameEn': 'Geography', 'dimensionNa...  \n",
       "3  [{'dimensionNameEn': 'Geography', 'dimensionNa...  \n",
       "4  [{'dimensionNameEn': 'Geography', 'dimensionNa...  "
      ]
     },
     "execution_count": 8,
     "metadata": {},
     "output_type": "execute_result"
    }
   ],
   "source": [
    "df.head()"
   ]
  },
  {
   "cell_type": "code",
   "execution_count": 15,
   "id": "2dc54146",
   "metadata": {},
   "outputs": [
    {
     "data": {
      "text/html": [
       "<div>\n",
       "<style scoped>\n",
       "    .dataframe tbody tr th:only-of-type {\n",
       "        vertical-align: middle;\n",
       "    }\n",
       "\n",
       "    .dataframe tbody tr th {\n",
       "        vertical-align: top;\n",
       "    }\n",
       "\n",
       "    .dataframe thead th {\n",
       "        text-align: right;\n",
       "    }\n",
       "</style>\n",
       "<table border=\"1\" class=\"dataframe\">\n",
       "  <thead>\n",
       "    <tr style=\"text-align: right;\">\n",
       "      <th></th>\n",
       "      <th>productId</th>\n",
       "      <th>cansimId</th>\n",
       "      <th>cubeTitleEn</th>\n",
       "      <th>cubeTitleFr</th>\n",
       "      <th>cubeStartDate</th>\n",
       "      <th>cubeEndDate</th>\n",
       "      <th>releaseTime</th>\n",
       "      <th>archived</th>\n",
       "      <th>subjectCode</th>\n",
       "      <th>surveyCode</th>\n",
       "      <th>frequencyCode</th>\n",
       "      <th>corrections</th>\n",
       "      <th>dimensions</th>\n",
       "    </tr>\n",
       "  </thead>\n",
       "  <tbody>\n",
       "    <tr>\n",
       "      <th>2325</th>\n",
       "      <td>20100021</td>\n",
       "      <td>None</td>\n",
       "      <td>New motor vehicle registrations, inactive</td>\n",
       "      <td>Immatriculations des véhicules automobiles neu...</td>\n",
       "      <td>2011-01-01</td>\n",
       "      <td>2021-01-01</td>\n",
       "      <td>2022-04-21 12:30:00</td>\n",
       "      <td>True</td>\n",
       "      <td>[20]</td>\n",
       "      <td>[5307]</td>\n",
       "      <td>12</td>\n",
       "      <td>[]</td>\n",
       "      <td>[{'dimensionNameEn': 'Geography', 'dimensionNa...</td>\n",
       "    </tr>\n",
       "    <tr>\n",
       "      <th>2327</th>\n",
       "      <td>20100024</td>\n",
       "      <td>None</td>\n",
       "      <td>New motor vehicle registrations, quarterly</td>\n",
       "      <td>Immatriculations des véhicules automobiles neu...</td>\n",
       "      <td>2017-01-01</td>\n",
       "      <td>2023-10-01</td>\n",
       "      <td>2024-03-12 12:30:00</td>\n",
       "      <td>False</td>\n",
       "      <td>[20]</td>\n",
       "      <td>[5307]</td>\n",
       "      <td>9</td>\n",
       "      <td>[]</td>\n",
       "      <td>[{'dimensionNameEn': 'Geography', 'dimensionNa...</td>\n",
       "    </tr>\n",
       "  </tbody>\n",
       "</table>\n",
       "</div>"
      ],
      "text/plain": [
       "      productId cansimId                                 cubeTitleEn  \\\n",
       "2325   20100021     None   New motor vehicle registrations, inactive   \n",
       "2327   20100024     None  New motor vehicle registrations, quarterly   \n",
       "\n",
       "                                            cubeTitleFr cubeStartDate  \\\n",
       "2325  Immatriculations des véhicules automobiles neu...    2011-01-01   \n",
       "2327  Immatriculations des véhicules automobiles neu...    2017-01-01   \n",
       "\n",
       "     cubeEndDate         releaseTime  archived subjectCode surveyCode  \\\n",
       "2325  2021-01-01 2022-04-21 12:30:00      True        [20]     [5307]   \n",
       "2327  2023-10-01 2024-03-12 12:30:00     False        [20]     [5307]   \n",
       "\n",
       "      frequencyCode corrections  \\\n",
       "2325             12          []   \n",
       "2327              9          []   \n",
       "\n",
       "                                             dimensions  \n",
       "2325  [{'dimensionNameEn': 'Geography', 'dimensionNa...  \n",
       "2327  [{'dimensionNameEn': 'Geography', 'dimensionNa...  "
      ]
     },
     "execution_count": 15,
     "metadata": {},
     "output_type": "execute_result"
    }
   ],
   "source": [
    "df[df['cubeTitleEn'].str.contains('New motor vehicle registrations')]"
   ]
  },
  {
   "cell_type": "code",
   "execution_count": 16,
   "id": "bd36c634-f8b5-4edc-8702-88d964d88f4a",
   "metadata": {
    "tags": []
   },
   "outputs": [],
   "source": [
    "item = df.loc[df['productId'] == 20100024]"
   ]
  },
  {
   "cell_type": "code",
   "execution_count": 11,
   "id": "3c6ace29-c28d-49ce-9981-821b62f9f01c",
   "metadata": {
    "tags": []
   },
   "outputs": [
    {
     "data": {
      "text/plain": [
       "[[{'dimensionNameEn': 'Geography',\n",
       "   'dimensionNameFr': 'Géographie',\n",
       "   'dimensionPositionId': 1,\n",
       "   'hasUOM': False},\n",
       "  {'dimensionNameEn': 'Fuel type',\n",
       "   'dimensionNameFr': 'Type de carburant',\n",
       "   'dimensionPositionId': 2,\n",
       "   'hasUOM': False},\n",
       "  {'dimensionNameEn': 'Vehicle type',\n",
       "   'dimensionNameFr': 'Genre de véhicule',\n",
       "   'dimensionPositionId': 3,\n",
       "   'hasUOM': False},\n",
       "  {'dimensionNameEn': 'Statistics',\n",
       "   'dimensionNameFr': 'Statistiques',\n",
       "   'dimensionPositionId': 4,\n",
       "   'hasUOM': True}]]"
      ]
     },
     "execution_count": 11,
     "metadata": {},
     "output_type": "execute_result"
    }
   ],
   "source": [
    "d = item['dimensions']\n",
    "list(d)"
   ]
  }
 ],
 "metadata": {
  "kernelspec": {
   "display_name": "Python 3 (ipykernel)",
   "language": "python",
   "name": "python3"
  },
  "language_info": {
   "codemirror_mode": {
    "name": "ipython",
    "version": 3
   },
   "file_extension": ".py",
   "mimetype": "text/x-python",
   "name": "python",
   "nbconvert_exporter": "python",
   "pygments_lexer": "ipython3",
   "version": "3.10.12"
  }
 },
 "nbformat": 4,
 "nbformat_minor": 5
}
